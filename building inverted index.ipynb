{
  "nbformat": 4,
  "nbformat_minor": 0,
  "metadata": {
    "colab": {
      "provenance": []
    },
    "kernelspec": {
      "name": "python3",
      "display_name": "Python 3"
    },
    "language_info": {
      "name": "python"
    }
  },
  "cells": [
    {
      "cell_type": "code",
      "source": [
        "import nltk\n",
        "from nltk.corpus import stopwords\n",
        "from nltk.tokenize import word_tokenize\n",
        "from nltk.stem import PorterStemmer\n",
        "import os\n",
        "\n",
        "nltk.download('punkt_tab')\n",
        "nltk.download('stopwords')\n",
        "nltk.download('punkt')\n",
        "\n",
        "stop_words = set(stopwords.words('english'))\n",
        "stemmer = PorterStemmer()\n",
        "\n",
        "file_paths = [\n",
        "    'corpus/doc1.txt',\n",
        "    'corpus/doc2.txt',\n",
        "    'corpus/doc3.txt',\n",
        "    'corpus/doc4.txt',\n",
        "    'corpus/doc5.txt'\n",
        "]\n",
        "\n",
        "doc_names = ['doc1', 'doc2', 'doc3', 'doc4', 'doc5']\n",
        "\n",
        "#Process documents -> stem + token + alpha + stop words\n",
        "processed_docs = [\n",
        "    [\n",
        "        stemmer.stem(word)\n",
        "        for word in word_tokenize(open(file, encoding='utf-8').read().lower())\n",
        "        if word.isalpha() and word not in stop_words\n",
        "    ]\n",
        "    for file in file_paths\n",
        "]\n",
        "\n",
        "#inverted index\n",
        "inverted_index = {}\n",
        "\n",
        "for doc_name, words in zip(doc_names, processed_docs):\n",
        "    for word in set(words):  #duplicates\n",
        "        if word not in inverted_index:\n",
        "            inverted_index[word] = []\n",
        "        inverted_index[word].append(doc_name)\n",
        "\n",
        "# Sort posting lists\n",
        "for postings in inverted_index.values():\n",
        "    postings.sort()\n",
        "\n",
        "print(\"Inverted Index:\\n\")\n",
        "for term, docs in inverted_index.items():\n",
        "    print(f'\"{term}\": {docs}')\n"
      ],
      "metadata": {
        "colab": {
          "base_uri": "https://localhost:8080/"
        },
        "id": "Ub71WxL2SoOF",
        "outputId": "9c1518be-1dc1-445f-fee8-a88b8c498639"
      },
      "execution_count": null,
      "outputs": [
        {
          "output_type": "stream",
          "name": "stdout",
          "text": [
            "Inverted Index:\n",
            "\n",
            "\"carbon\": ['doc1']\n",
            "\"emiss\": ['doc1']\n",
            "\"acceler\": ['doc1']\n",
            "\"due\": ['doc1']\n",
            "\"global\": ['doc1']\n",
            "\"increas\": ['doc1']\n",
            "\"warm\": ['doc1']\n",
            "\"photosynthesi\": ['doc2']\n",
            "\"sunlight\": ['doc2']\n",
            "\"process\": ['doc2']\n",
            "\"green\": ['doc2']\n",
            "\"plant\": ['doc2']\n",
            "\"convert\": ['doc2']\n",
            "\"among\": ['doc3']\n",
            "\"python\": ['doc3']\n",
            "\"scientist\": ['doc3']\n",
            "\"data\": ['doc3']\n",
            "\"popular\": ['doc3']\n",
            "\"versatil\": ['doc3']\n",
            "\"languag\": ['doc3']\n",
            "\"program\": ['doc3']\n",
            "\"begun\": ['doc4']\n",
            "\"time\": ['doc4']\n",
            "\"best\": ['doc4']\n",
            "\"revolut\": ['doc4']\n",
            "\"reign\": ['doc4']\n",
            "\"pari\": ['doc4']\n",
            "\"french\": ['doc4']\n",
            "\"chao\": ['doc4']\n",
            "\"street\": ['doc4']\n",
            "\"worst\": ['doc4']\n",
            "\"howev\": ['doc5']\n",
            "\"amaz\": ['doc5']\n",
            "\"phone\": ['doc5']\n",
            "\"batteri\": ['doc5']\n",
            "\"camera\": ['doc5']\n",
            "\"disappoint\": ['doc5']\n",
            "\"condit\": ['doc5']\n",
            "\"qualiti\": ['doc5']\n",
            "\"life\": ['doc5']\n"
          ]
        },
        {
          "output_type": "stream",
          "name": "stderr",
          "text": [
            "[nltk_data] Downloading package punkt_tab to /root/nltk_data...\n",
            "[nltk_data]   Package punkt_tab is already up-to-date!\n",
            "[nltk_data] Downloading package stopwords to /root/nltk_data...\n",
            "[nltk_data]   Package stopwords is already up-to-date!\n",
            "[nltk_data] Downloading package punkt to /root/nltk_data...\n",
            "[nltk_data]   Package punkt is already up-to-date!\n"
          ]
        }
      ]
    },
    {
      "cell_type": "code",
      "source": [],
      "metadata": {
        "id": "bRWnOsu7dzuO"
      },
      "execution_count": null,
      "outputs": []
    }
  ]
}